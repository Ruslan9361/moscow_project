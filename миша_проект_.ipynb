{
  "nbformat": 4,
  "nbformat_minor": 0,
  "metadata": {
    "colab": {
      "provenance": [],
      "collapsed_sections": []
    },
    "kernelspec": {
      "name": "python3",
      "display_name": "Python 3"
    },
    "language_info": {
      "name": "python"
    }
  },
  "cells": [
    {
      "cell_type": "code",
      "execution_count": null,
      "metadata": {
        "id": "bEg3fZTFKxd3"
      },
      "outputs": [],
      "source": [
        "import pandas as pd  \n",
        "import seaborn as sns \n",
        "from pandas import DataFrame\n",
        "import matplotlib.pyplot as plt \n",
        "import numpy as np "
      ]
    },
    {
      "cell_type": "code",
      "source": [
        "from google.colab import drive\n",
        "drive.mount('/content/drive')"
      ],
      "metadata": {
        "colab": {
          "base_uri": "https://localhost:8080/"
        },
        "id": "XVCjP6DEoLLr",
        "outputId": "1285de5d-e3c1-4c0b-944d-5de4dc3844a3"
      },
      "execution_count": null,
      "outputs": [
        {
          "output_type": "stream",
          "name": "stdout",
          "text": [
            "Drive already mounted at /content/drive; to attempt to forcibly remount, call drive.mount(\"/content/drive\", force_remount=True).\n"
          ]
        }
      ]
    },
    {
      "cell_type": "code",
      "source": [
        "df = pd.read_csv('/content/drive/MyDrive/Colab Notebooks/победа stw-vko/DP186_2c5ce820.csv')\n",
        "df1 =  pd.read_csv('/content/drive/MyDrive/Colab Notebooks/победа stw-vko/DP186_2c74c0e9.csv')\n",
        "df2 = pd.read_csv('/content/drive/MyDrive/Colab Notebooks/победа stw-vko/DP186_2ca7efa8.csv')\n",
        "df3 = pd.read_csv('/content/drive/MyDrive/Colab Notebooks/победа stw-vko/DP186_2cdf2845.csv')"
      ],
      "metadata": {
        "id": "gPB3DzkWNKXu"
      },
      "execution_count": null,
      "outputs": []
    },
    {
      "cell_type": "markdown",
      "source": [
        "Версия №1 seaborn "
      ],
      "metadata": {
        "id": "RcWwzoSkqTdY"
      }
    },
    {
      "cell_type": "code",
      "source": [
        "data = DataFrame(df)\n",
        "corr = data.corr()\n",
        "plot = sns.heatmap(corr, annot = True,vmin =-1,vmax = 1, center = 0)\n",
        "plot.get_figure()"
      ],
      "metadata": {
        "id": "btBMlbMKR5TL"
      },
      "execution_count": null,
      "outputs": []
    },
    {
      "cell_type": "markdown",
      "source": [
        "Версия №1 plt"
      ],
      "metadata": {
        "id": "FlT0PVBGqloD"
      }
    },
    {
      "cell_type": "code",
      "source": [
        "def plot_corr(df,size):\n",
        "    corr = df.corr()\n",
        "    fig, ax = plt.subplots(figsize=(size, size))\n",
        "    ax.matshow(corr)\n",
        "    plt.xticks(range(len(corr.columns)), corr.columns, rotation='vertical')\n",
        "    plt.yticks(range(len(corr.columns)), corr.columns);"
      ],
      "metadata": {
        "id": "oCS0Dxo6x2kC"
      },
      "execution_count": null,
      "outputs": []
    },
    {
      "cell_type": "code",
      "source": [
        "plot_corr(df,size=10)"
      ],
      "metadata": {
        "id": "YJ-F9Sq4mSaP"
      },
      "execution_count": null,
      "outputs": []
    },
    {
      "cell_type": "code",
      "source": [
        "data = DataFrame(df)\n",
        "data1 = DataFrame(df1)\n",
        "data2 = DataFrame(df2)\n",
        "data3 = DataFrame(df3)"
      ],
      "metadata": {
        "id": "SjD6CCX8l0pG"
      },
      "execution_count": null,
      "outputs": []
    },
    {
      "cell_type": "code",
      "source": [
        "res = pd.concat([data,data1,data2,data3],axis = 0)\n",
        "all_res = res.loc[res[\"Altitude\"]>=35000]\n",
        "all_res"
      ],
      "metadata": {
        "id": "wqwQrK0R6Mhe"
      },
      "execution_count": null,
      "outputs": []
    },
    {
      "cell_type": "code",
      "source": [
        "for i in all_res[\"Altitude\"]:\n",
        "  if i == 35000:\n",
        "    print(\"good\")\n",
        "  else: \n",
        "    print(\"alarm\")"
      ],
      "metadata": {
        "id": "Ls9ofLdfziAP"
      },
      "execution_count": null,
      "outputs": []
    },
    {
      "cell_type": "code",
      "source": [
        "res_max = all_res.max()\n",
        "res_max"
      ],
      "metadata": {
        "colab": {
          "base_uri": "https://localhost:8080/"
        },
        "id": "A4QACuJ76sRQ",
        "outputId": "2d0e1e9f-525c-41f8-f089-237e5665795f"
      },
      "execution_count": null,
      "outputs": [
        {
          "output_type": "execute_result",
          "data": {
            "text/plain": [
              "Timestamp              1659278630\n",
              "UTC          2022-07-31T14:43:50Z\n",
              "Callsign                   PBD186\n",
              "Position       53.99971,39.860096\n",
              "Altitude                    38050\n",
              "Speed                         556\n",
              "Direction                     359\n",
              "dtype: object"
            ]
          },
          "metadata": {},
          "execution_count": 19
        }
      ]
    },
    {
      "cell_type": "code",
      "source": [
        "res_min = all_res.min()\n",
        "res_min"
      ],
      "metadata": {
        "colab": {
          "base_uri": "https://localhost:8080/"
        },
        "id": "6uHzUrai7mnO",
        "outputId": "cd28ab8e-87d4-4544-a0fb-77c5183def5d"
      },
      "execution_count": null,
      "outputs": [
        {
          "output_type": "execute_result",
          "data": {
            "text/plain": [
              "Timestamp              1655992320\n",
              "UTC          2022-06-23T13:52:00Z\n",
              "Callsign                   PBD186\n",
              "Position       43.87767,49.354118\n",
              "Altitude                    35000\n",
              "Speed                         358\n",
              "Direction                       1\n",
              "dtype: object"
            ]
          },
          "metadata": {},
          "execution_count": 20
        }
      ]
    },
    {
      "cell_type": "code",
      "source": [
        " \n",
        "all_data = data.loc[data[\"Altitude\"]>=35000]\n",
        "for i in all_data[\"Altitude\"]:\n",
        "  for j in all_data[\"Speed\"]:\n",
        "    for k in all_data[\"Direction\"]:\n",
        "      if i <= 38050 and i >= 35000:\n",
        "        pass\n",
        "      else: \n",
        "        print(\"alarm\")\n",
        "      if j >= 438 and j <= 489:\n",
        "        pass\n",
        "      else:  \n",
        "        print(\"alarm\")\n",
        "      if k >= 1 and k <= 359:\n",
        "        pass \n",
        "      else:\n",
        "        print(\"alarm\")\n"
      ],
      "metadata": {
        "id": "1sg6rkWR8lM2"
      },
      "execution_count": null,
      "outputs": []
    },
    {
      "cell_type": "code",
      "source": [],
      "metadata": {
        "id": "pLBKA-9oBWVL"
      },
      "execution_count": null,
      "outputs": []
    }
  ]
}